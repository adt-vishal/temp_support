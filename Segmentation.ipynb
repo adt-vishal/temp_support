{
 "cells": [
  {
   "cell_type": "code",
   "execution_count": 1,
   "id": "7c4b264c-5ca7-4ba2-a169-8989cb0472ff",
   "metadata": {},
   "outputs": [],
   "source": [
    "import configparser\n",
    "import yaml\n",
    "config = configparser.ConfigParser()\n",
    "config.read('config.ini')\n",
    "SEG_CONFIG_FILE = config['DEFAULT']['SEG_CONFIG']"
   ]
  },
  {
   "cell_type": "code",
   "execution_count": 2,
   "id": "1f35e896-84dd-4253-99f0-b113156f705e",
   "metadata": {},
   "outputs": [],
   "source": [
    "import os\n",
    "os.chdir('/home/vishalchaudhari/NAVIK-MarketingAI-2022/Segmentation/Segmentation_pkg_adt')"
   ]
  },
  {
   "cell_type": "code",
   "execution_count": 3,
   "id": "3a95dff1-1b6e-437a-b4bd-03c4423f4a45",
   "metadata": {},
   "outputs": [],
   "source": [
    "from Segmentation.seg_modular import Segmentation"
   ]
  },
  {
   "cell_type": "code",
   "execution_count": 4,
   "id": "f0a05511-1702-4915-b32a-2760928141b9",
   "metadata": {},
   "outputs": [
    {
     "name": "stdout",
     "output_type": "stream",
     "text": [
      "Reading Config files and Input Schema...\n",
      "{'input_path': 'Inputs', 'output_path': 'Outputs', 'output_file_path': 'Outputs/Segmentation_Module/04-Typing Tool', 'input_filename': 'cust_data_0.5k.csv', 'test_filename': 'cust_data_0.5k_test.csv', 'output_filename': 'NAVIK Segmentation_Typing Tool_Segment Solution.csv', 'cust_id_var': 'pf_customer_id', 'seg_id_var': 'Segment'} {'Segmentation Vars': ['pf_age', 'pf_sex', 'pf_region', 'pf_income', 'pf_occupation', 'pf_marital_status', 'pf_family_size', 'pf_mailable_flag', 'pf_loyalty_flag', 'pf_membership_level', 'pf_satisfaction_score', 'la_total_revenue', 'la_total_transactions', 'la_tenure'], 'Clustering Technique': ['Support Vector Clustering'], 'Min Solution': 5, 'Max Solution': 6, 'Scaler': 'Normal Standardization'}\n",
      "Function name is:  Segmentation \n",
      "Total time for execution= 00:00:00\n",
      "/01-Input Data directory already exists\n",
      "/02-Output Data directory already exists\n",
      "/03-Frozen Outputs directory already exists\n",
      "/04-Typing Tool directory already exists\n",
      "Fetched user inputs\n",
      "Start Univariate Data Analysis\n",
      "Univariate data analysis complete\n",
      "Data pre-processing complete\n",
      "svm-poly_clustering_technique_start\n",
      "Spectral poly : 5\n",
      "Spectral poly : 6\n",
      "Total time for execution for svm-poly 00:00:07\n",
      "svm-sigmoid_clustering_technique_start\n",
      "Spectral sigmoid : 5\n",
      "Spectral sigmoid : 6\n",
      "Total time for execution for svm-sigmoid 00:00:08\n",
      "svm-rbf_clustering_technique_start\n",
      "Spectral rbf : 5\n",
      "Spectral rbf : 6\n",
      "Total time for execution for svm-rbf 00:00:07\n",
      "svm-linear_clustering_technique_start\n",
      "Spectral linear : 5\n",
      "Spectral linear : 6\n",
      "Total time for execution for svm-linear 00:00:07\n",
      "Total time for diagnostic report\n",
      " and Saving the clustering output of top solutions with the actual data:00:00:00\n",
      "Function name is:  create_diagnostic_df \n",
      "Total time for execution= 00:00:31\n",
      "Segmentation Done\n",
      "Created profling sheets\n",
      "Created Migration Tables\n",
      "Saved pickles of Random Forest models\n",
      "Integrated output saved\n",
      "svm-linear6\n",
      "Outputs/Segmentation_Module/03-Frozen Outputs/User Inputs.pickle\n"
     ]
    }
   ],
   "source": [
    "import os\n",
    "os.chdir('/home/vishalchaudhari/NAVIK-MarketingAI-2022/')\n",
    "SEG = Segmentation(SEG_CONFIG_FILE)\n",
    "SEG.compute_seg()"
   ]
  },
  {
   "cell_type": "code",
   "execution_count": 5,
   "id": "d0d41db2-5173-4444-8b34-ea878ca1924c",
   "metadata": {},
   "outputs": [
    {
     "name": "stdout",
     "output_type": "stream",
     "text": [
      "Segmentation Output:     pf_customer_id  pf_age  pf_sex pf_region  pf_income  \\\n",
      "0               4      50    Male        US     470810   \n",
      "1               5      25    Male        US     915799   \n",
      "2               6      32    Male        US      66599   \n",
      "3               7      38  Female        US     730059   \n",
      "4               8      42  Female        US     529908   \n",
      "5               9      29    Male        US    1000000   \n",
      "6              10      42    Male        US     812418   \n",
      "7              11      40    Male        US     549281   \n",
      "8              12      30    Male        US     531251   \n",
      "9              13      38    Male        US    1000000   \n",
      "\n",
      "            pf_occupation pf_marital_status  pf_family_size pf_mailable_flag  \\\n",
      "0                 Retired           Married               4               No   \n",
      "1                Business            Single               3               No   \n",
      "2  Professional/Technical           Married               1              Yes   \n",
      "3         Sales/Marketing            Single               3              Yes   \n",
      "4                   Owner            Single               1              Yes   \n",
      "5         Sales/Marketing            Single               3              Yes   \n",
      "6  Professional/Technical           Married               4              Yes   \n",
      "7  Professional/Technical           Married               2              Yes   \n",
      "8                 Retired            Single               4              Yes   \n",
      "9                   Owner            Single               2               No   \n",
      "\n",
      "  pf_loyalty_flag  ... la_total_transactions  la_tenure  Segment_x  \\\n",
      "0             Yes  ...                     9        1.0          3   \n",
      "1              No  ...                     4        2.9          3   \n",
      "2              No  ...                    10        3.0          3   \n",
      "3              No  ...                    10        1.3          2   \n",
      "4              No  ...                     3        2.1          2   \n",
      "5             Yes  ...                    10        1.1          1   \n",
      "6              No  ...                     5        2.1          3   \n",
      "7              No  ...                     9        3.0          6   \n",
      "8             Yes  ...                     3        2.0          5   \n",
      "9             Yes  ...                     9        3.0          6   \n",
      "\n",
      "             pf_name                                pf_email    pf_phone  \\\n",
      "0      Daniel Austin                Daniel.Austin@nelson.net  6482190823   \n",
      "1     Emily Jennings                 Emily.Jennings@hull.com  4329236613   \n",
      "2       Brandy Lewis           Brandy.Lewis@cruz-pearson.com  4409052636   \n",
      "3      Candice Logan            Candice.Logan@villanueva.com  6971381110   \n",
      "4       Eugene Gomez        Eugene.Gomez@robinson-flores.com  4879776796   \n",
      "5  Deborah Hernandez  Deborah.Hernandez@burgess-schaefer.com  2168094529   \n",
      "6       Kevin Taylor                  Kevin.Taylor@avila.com  1471015104   \n",
      "7   Andrew Armstrong             Andrew.Armstrong@bailey.com  4615067320   \n",
      "8        Linda Brown                  Linda.Brown@walker.org  3036191736   \n",
      "9     Timothy Peters                Timothy.Peters@casey.org  9567215089   \n",
      "\n",
      "                                          pf_address upsell_flag  \\\n",
      "0     8142 Manuel Way Suite 013\\nNovaktown, RI 03810           0   \n",
      "1    89597 Jeffrey Lane\\nSouth Felicialand, IN 37101           1   \n",
      "2                   Unit 4468 Box 0077\\nDPO AE 62768           1   \n",
      "3               564 Moore Shore\\nEast Eric, NE 29888           1   \n",
      "4                   Unit 3229 Box 4821\\nDPO AE 64834           0   \n",
      "5              535 King Vista\\nMelindastad, DC 76174           0   \n",
      "6           2668 Hooper Meadow\\nCooperfurt, WI 26347           1   \n",
      "7  473 Erickson Haven Apt. 222\\nEast Haroldboroug...           0   \n",
      "8              5114 Jamie Locks\\nNew Tyler, MN 35814           1   \n",
      "9  62972 Kathleen Flat Apt. 216\\nNorth Elizabethf...           0   \n",
      "\n",
      "   cross_sell_flag Segment_y  \n",
      "0                1         2  \n",
      "1                1         2  \n",
      "2                1         6  \n",
      "3                0         2  \n",
      "4                0         2  \n",
      "5                1         5  \n",
      "6                0         6  \n",
      "7                0         6  \n",
      "8                1         5  \n",
      "9                0         3  \n",
      "\n",
      "[10 rows x 23 columns]\n"
     ]
    }
   ],
   "source": [
    "SEG.combine_seg()"
   ]
  },
  {
   "cell_type": "code",
   "execution_count": null,
   "id": "f0954cb8-e43b-40b8-be1a-d9f59b7191fe",
   "metadata": {},
   "outputs": [],
   "source": []
  }
 ],
 "metadata": {
  "kernelspec": {
   "display_name": "Python 3 (ipykernel)",
   "language": "python",
   "name": "python3"
  },
  "language_info": {
   "codemirror_mode": {
    "name": "ipython",
    "version": 3
   },
   "file_extension": ".py",
   "mimetype": "text/x-python",
   "name": "python",
   "nbconvert_exporter": "python",
   "pygments_lexer": "ipython3",
   "version": "3.9.13"
  }
 },
 "nbformat": 4,
 "nbformat_minor": 5
}
